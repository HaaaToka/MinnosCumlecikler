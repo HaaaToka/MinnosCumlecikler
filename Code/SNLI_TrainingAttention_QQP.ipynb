{
  "nbformat": 4,
  "nbformat_minor": 0,
  "metadata": {
    "hide_input": false,
    "kernelspec": {
      "display_name": "Python 3",
      "language": "python",
      "name": "python3"
    },
    "language_info": {
      "codemirror_mode": {
        "name": "ipython",
        "version": 3
      },
      "file_extension": ".py",
      "mimetype": "text/x-python",
      "name": "python",
      "nbconvert_exporter": "python",
      "pygments_lexer": "ipython3",
      "version": "3.4.3"
    },
    "colab": {
      "name": "quora-question-pairs-training-attention.ipynb",
      "provenance": [],
      "toc_visible": true
    },
    "accelerator": "GPU"
  },
  "cells": [
    {
      "cell_type": "markdown",
      "metadata": {
        "deletable": true,
        "editable": true,
        "id": "rLMPWpzJF-Bx",
        "colab_type": "text"
      },
      "source": [
        "# Quora question pairs: training a model with attention"
      ]
    },
    {
      "cell_type": "code",
      "metadata": {
        "id": "sg9nzQb8o2YJ",
        "colab_type": "code",
        "colab": {}
      },
      "source": [
        ""
      ],
      "execution_count": null,
      "outputs": []
    },
    {
      "cell_type": "markdown",
      "metadata": {
        "deletable": true,
        "editable": true,
        "id": "aOEUZfmOF-Bz",
        "colab_type": "text"
      },
      "source": [
        "## Import packages"
      ]
    },
    {
      "cell_type": "code",
      "metadata": {
        "id": "EOgx0-wsGAc0",
        "colab_type": "code",
        "colab": {
          "base_uri": "https://localhost:8080/",
          "height": 372
        },
        "outputId": "895bc5a8-7285-4503-a940-b38c1d1a6005"
      },
      "source": [
        "!nvidia-smi"
      ],
      "execution_count": null,
      "outputs": [
        {
          "output_type": "stream",
          "text": [
            "Sat Jun 27 12:48:08 2020       \n",
            "+-----------------------------------------------------------------------------+\n",
            "| NVIDIA-SMI 450.36.06    Driver Version: 418.67       CUDA Version: 10.1     |\n",
            "|-------------------------------+----------------------+----------------------+\n",
            "| GPU  Name        Persistence-M| Bus-Id        Disp.A | Volatile Uncorr. ECC |\n",
            "| Fan  Temp  Perf  Pwr:Usage/Cap|         Memory-Usage | GPU-Util  Compute M. |\n",
            "|                               |                      |               MIG M. |\n",
            "|===============================+======================+======================|\n",
            "|   0  Tesla P100-PCIE...  Off  | 00000000:00:04.0 Off |                    0 |\n",
            "| N/A   40C    P0    27W / 250W |      0MiB / 16280MiB |      0%      Default |\n",
            "|                               |                      |                 ERR! |\n",
            "+-------------------------------+----------------------+----------------------+\n",
            "                                                                               \n",
            "+-----------------------------------------------------------------------------+\n",
            "| Processes:                                                                  |\n",
            "|  GPU   GI   CI        PID   Type   Process name                  GPU Memory |\n",
            "|        ID   ID                                                   Usage      |\n",
            "|=============================================================================|\n",
            "|  No running processes found                                                 |\n",
            "+-----------------------------------------------------------------------------+\n"
          ],
          "name": "stdout"
        }
      ]
    },
    {
      "cell_type": "code",
      "metadata": {
        "deletable": true,
        "editable": true,
        "id": "yxMtt5iVF-B0",
        "colab_type": "code",
        "colab": {
          "base_uri": "https://localhost:8080/",
          "height": 34
        },
        "outputId": "8878ab0b-c2b4-42dc-bc8d-2275b7d1991d"
      },
      "source": [
        "%matplotlib inline\n",
        "from __future__ import print_function\n",
        "import numpy as np\n",
        "import pandas as pd\n",
        "import datetime, time, json\n",
        "from keras.models import Model\n",
        "from keras.layers import Input, Bidirectional, LSTM, dot, Flatten, Dense, Reshape, add, Dropout, BatchNormalization\n",
        "from keras.layers.embeddings import Embedding\n",
        "from keras.regularizers import l2\n",
        "from keras.callbacks import Callback, ModelCheckpoint\n",
        "from keras import backend as K\n",
        "from sklearn.model_selection import train_test_split"
      ],
      "execution_count": null,
      "outputs": [
        {
          "output_type": "stream",
          "text": [
            "Using TensorFlow backend.\n"
          ],
          "name": "stderr"
        }
      ]
    },
    {
      "cell_type": "markdown",
      "metadata": {
        "deletable": true,
        "editable": true,
        "id": "bU6jNRWPF-B7",
        "colab_type": "text"
      },
      "source": [
        "## Initialize global variables"
      ]
    },
    {
      "cell_type": "code",
      "metadata": {
        "deletable": true,
        "editable": true,
        "id": "hkcvmVxqF-B8",
        "colab_type": "code",
        "colab": {}
      },
      "source": [
        "Q1_TRAINING_DATA_FILE = 'q1_train.npy'\n",
        "Q2_TRAINING_DATA_FILE = 'q2_train.npy'\n",
        "LABEL_TRAINING_DATA_FILE = 'label_train.npy'\n",
        "WORD_EMBEDDING_MATRIX_FILE = 'word_embedding_matrix.npy'\n",
        "NB_WORDS_DATA_FILE = 'nb_words.json'\n",
        "MODEL_WEIGHTS_FILE = '/content/question_pairs_weights.h5'\n",
        "MAX_SEQUENCE_LENGTH = 25\n",
        "WORD_EMBEDDING_DIM = 300\n",
        "SENT_EMBEDDING_DIM = 128\n",
        "VALIDATION_SPLIT = 0.2\n",
        "# TEST_SPLIT = 0.1\n",
        "RNG_SEED = 13371447\n",
        "NB_EPOCHS = 25\n",
        "DROPOUT = 0.2\n",
        "# BATCH_SIZE = 516\n",
        "BATCH_SIZE = 2048"
      ],
      "execution_count": null,
      "outputs": []
    },
    {
      "cell_type": "markdown",
      "metadata": {
        "deletable": true,
        "editable": true,
        "id": "NTsycvt1F-CC",
        "colab_type": "text"
      },
      "source": [
        "## Load the dataset, embedding matrix and word count"
      ]
    },
    {
      "cell_type": "code",
      "metadata": {
        "deletable": true,
        "editable": true,
        "id": "yOKHNkX1F-CD",
        "colab_type": "code",
        "colab": {}
      },
      "source": [
        "q1_data = np.load(open(Q1_TRAINING_DATA_FILE, 'rb'))\n",
        "q2_data = np.load(open(Q2_TRAINING_DATA_FILE, 'rb'))\n",
        "labels = np.load(open(LABEL_TRAINING_DATA_FILE, 'rb'))\n",
        "word_embedding_matrix = np.load(open(WORD_EMBEDDING_MATRIX_FILE, 'rb'))\n",
        "with open(NB_WORDS_DATA_FILE, 'r') as f:\n",
        "    nb_words = json.load(f)['nb_words']"
      ],
      "execution_count": null,
      "outputs": []
    },
    {
      "cell_type": "markdown",
      "metadata": {
        "deletable": true,
        "editable": true,
        "id": "gGCS2WhaF-CI",
        "colab_type": "text"
      },
      "source": [
        "## Partition the dataset into train and test sets"
      ]
    },
    {
      "cell_type": "code",
      "metadata": {
        "deletable": true,
        "editable": true,
        "id": "guuy8mICF-CJ",
        "colab_type": "code",
        "colab": {}
      },
      "source": [
        "X_train = np.stack((q1_data, q2_data), axis=1)\n",
        "y_train = labels\n",
        "# X_train, X_test, y_train, y_test = train_test_split(X, y, test_size=TEST_SPLIT, random_state=RNG_SEED)\n",
        "Q1_train = X_train[:,0]\n",
        "Q2_train = X_train[:,1]\n",
        "# Q1_test = X_test[:,0]\n",
        "# Q2_test = X_test[:,1]\n"
      ],
      "execution_count": null,
      "outputs": []
    },
    {
      "cell_type": "code",
      "metadata": {
        "id": "RzcKXFSwVhMI",
        "colab_type": "code",
        "colab": {}
      },
      "source": [
        "q1_data_dev = np.load(open(\"/content/q1_dev.npy\", 'rb'))\n",
        "q2_data_dev = np.load(open(\"/content/q2_dev.npy\", 'rb'))\n",
        "labels_dev = np.load(open(\"/content/label_dev.npy\", 'rb'))\n",
        "word_embedding_matrix_dev = np.load(open(\"/content/word_embedding_matrix_dev.npy\", 'rb'))\n",
        "with open(\"/content/nb_words_dev.json\", 'r') as f:\n",
        "    nb_words_dev = json.load(f)['nb_words']\n",
        "\n",
        "X_dev = np.stack((q1_data_dev, q2_data_dev), axis=1)\n",
        "y_dev = labels_dev\n",
        "Q1_dev = X_dev[:,0]\n",
        "Q2_dev = X_dev[:,1]"
      ],
      "execution_count": null,
      "outputs": []
    },
    {
      "cell_type": "code",
      "metadata": {
        "id": "2-rpNfsDWWbp",
        "colab_type": "code",
        "colab": {}
      },
      "source": [
        "all_word_embeddings = np.vstack((word_embedding_matrix, word_embedding_matrix_dev))\n",
        "all_nb_words = nb_words_dev + nb_words"
      ],
      "execution_count": null,
      "outputs": []
    },
    {
      "cell_type": "markdown",
      "metadata": {
        "deletable": true,
        "editable": true,
        "id": "F7R9XwXUF-CN",
        "colab_type": "text"
      },
      "source": [
        "## Define the model"
      ]
    },
    {
      "cell_type": "code",
      "metadata": {
        "deletable": true,
        "editable": true,
        "id": "OZ4okMuVF-CO",
        "colab_type": "code",
        "colab": {}
      },
      "source": [
        "question1 = Input(shape=(MAX_SEQUENCE_LENGTH,))\n",
        "question2 = Input(shape=(MAX_SEQUENCE_LENGTH,))\n",
        "\n",
        "q1 = Embedding(all_nb_words + 2, \n",
        "                 WORD_EMBEDDING_DIM, \n",
        "                 weights=[all_word_embeddings], \n",
        "                 input_length=MAX_SEQUENCE_LENGTH, \n",
        "                 trainable=False)(question1)\n",
        "q1 = Bidirectional(LSTM(SENT_EMBEDDING_DIM, return_sequences=True), merge_mode=\"sum\")(q1)\n",
        "\n",
        "q2 = Embedding(all_nb_words + 2, \n",
        "                 WORD_EMBEDDING_DIM, \n",
        "                 weights=[all_word_embeddings], \n",
        "                 input_length=MAX_SEQUENCE_LENGTH, \n",
        "                 trainable=False)(question2)\n",
        "q2 = Bidirectional(LSTM(SENT_EMBEDDING_DIM, return_sequences=True), merge_mode=\"sum\")(q2)\n",
        "\n",
        "attention = dot([q1,q2], [1,1])\n",
        "attention = Flatten()(attention)\n",
        "attention = Dense((MAX_SEQUENCE_LENGTH*SENT_EMBEDDING_DIM))(attention)\n",
        "attention = Reshape((MAX_SEQUENCE_LENGTH, SENT_EMBEDDING_DIM))(attention)\n",
        "\n",
        "merged = add([q1,attention])\n",
        "merged = Flatten()(merged)\n",
        "merged = Dense(200, activation='relu')(merged)\n",
        "merged = Dropout(DROPOUT)(merged)\n",
        "merged = BatchNormalization()(merged)\n",
        "merged = Dense(200, activation='relu')(merged)\n",
        "merged = Dropout(DROPOUT)(merged)\n",
        "merged = BatchNormalization()(merged)\n",
        "merged = Dense(200, activation='relu')(merged)\n",
        "merged = Dropout(DROPOUT)(merged)\n",
        "merged = BatchNormalization()(merged)\n",
        "merged = Dense(200, activation='relu')(merged)\n",
        "merged = Dropout(DROPOUT)(merged)\n",
        "merged = BatchNormalization()(merged)\n",
        "\n",
        "is_duplicate = Dense(1, activation='sigmoid')(merged)\n",
        "\n",
        "model = Model(inputs=[question1,question2], outputs=is_duplicate)\n",
        "model.compile(loss='binary_crossentropy', optimizer='adam', metrics=['accuracy'])"
      ],
      "execution_count": null,
      "outputs": []
    },
    {
      "cell_type": "code",
      "metadata": {
        "deletable": true,
        "editable": true,
        "id": "72Lr1c9lF-CS",
        "colab_type": "code",
        "colab": {
          "base_uri": "https://localhost:8080/",
          "height": 1000
        },
        "outputId": "9a3488d1-3d47-4426-efc5-aac38cd12b83"
      },
      "source": [
        "model.summary()"
      ],
      "execution_count": null,
      "outputs": [
        {
          "output_type": "stream",
          "text": [
            "Model: \"model_2\"\n",
            "__________________________________________________________________________________________________\n",
            "Layer (type)                    Output Shape         Param #     Connected to                     \n",
            "==================================================================================================\n",
            "input_3 (InputLayer)            (None, 25)           0                                            \n",
            "__________________________________________________________________________________________________\n",
            "input_4 (InputLayer)            (None, 25)           0                                            \n",
            "__________________________________________________________________________________________________\n",
            "embedding_3 (Embedding)         (None, 25, 300)      34107900    input_3[0][0]                    \n",
            "__________________________________________________________________________________________________\n",
            "embedding_4 (Embedding)         (None, 25, 300)      34107900    input_4[0][0]                    \n",
            "__________________________________________________________________________________________________\n",
            "bidirectional_3 (Bidirectional) (None, 25, 128)      439296      embedding_3[0][0]                \n",
            "__________________________________________________________________________________________________\n",
            "bidirectional_4 (Bidirectional) (None, 25, 128)      439296      embedding_4[0][0]                \n",
            "__________________________________________________________________________________________________\n",
            "dot_2 (Dot)                     (None, 128, 128)     0           bidirectional_3[0][0]            \n",
            "                                                                 bidirectional_4[0][0]            \n",
            "__________________________________________________________________________________________________\n",
            "flatten_3 (Flatten)             (None, 16384)        0           dot_2[0][0]                      \n",
            "__________________________________________________________________________________________________\n",
            "dense_7 (Dense)                 (None, 3200)         52432000    flatten_3[0][0]                  \n",
            "__________________________________________________________________________________________________\n",
            "reshape_2 (Reshape)             (None, 25, 128)      0           dense_7[0][0]                    \n",
            "__________________________________________________________________________________________________\n",
            "add_2 (Add)                     (None, 25, 128)      0           bidirectional_3[0][0]            \n",
            "                                                                 reshape_2[0][0]                  \n",
            "__________________________________________________________________________________________________\n",
            "flatten_4 (Flatten)             (None, 3200)         0           add_2[0][0]                      \n",
            "__________________________________________________________________________________________________\n",
            "dense_8 (Dense)                 (None, 200)          640200      flatten_4[0][0]                  \n",
            "__________________________________________________________________________________________________\n",
            "dropout_5 (Dropout)             (None, 200)          0           dense_8[0][0]                    \n",
            "__________________________________________________________________________________________________\n",
            "batch_normalization_5 (BatchNor (None, 200)          800         dropout_5[0][0]                  \n",
            "__________________________________________________________________________________________________\n",
            "dense_9 (Dense)                 (None, 200)          40200       batch_normalization_5[0][0]      \n",
            "__________________________________________________________________________________________________\n",
            "dropout_6 (Dropout)             (None, 200)          0           dense_9[0][0]                    \n",
            "__________________________________________________________________________________________________\n",
            "batch_normalization_6 (BatchNor (None, 200)          800         dropout_6[0][0]                  \n",
            "__________________________________________________________________________________________________\n",
            "dense_10 (Dense)                (None, 200)          40200       batch_normalization_6[0][0]      \n",
            "__________________________________________________________________________________________________\n",
            "dropout_7 (Dropout)             (None, 200)          0           dense_10[0][0]                   \n",
            "__________________________________________________________________________________________________\n",
            "batch_normalization_7 (BatchNor (None, 200)          800         dropout_7[0][0]                  \n",
            "__________________________________________________________________________________________________\n",
            "dense_11 (Dense)                (None, 200)          40200       batch_normalization_7[0][0]      \n",
            "__________________________________________________________________________________________________\n",
            "dropout_8 (Dropout)             (None, 200)          0           dense_11[0][0]                   \n",
            "__________________________________________________________________________________________________\n",
            "batch_normalization_8 (BatchNor (None, 200)          800         dropout_8[0][0]                  \n",
            "__________________________________________________________________________________________________\n",
            "dense_12 (Dense)                (None, 1)            201         batch_normalization_8[0][0]      \n",
            "==================================================================================================\n",
            "Total params: 122,290,593\n",
            "Trainable params: 54,073,193\n",
            "Non-trainable params: 68,217,400\n",
            "__________________________________________________________________________________________________\n"
          ],
          "name": "stdout"
        }
      ]
    },
    {
      "cell_type": "markdown",
      "metadata": {
        "deletable": true,
        "editable": true,
        "id": "G6jgMzBrF-CY",
        "colab_type": "text"
      },
      "source": [
        "## Train the model, checkpointing weights with best validation accuracy"
      ]
    },
    {
      "cell_type": "code",
      "metadata": {
        "deletable": true,
        "editable": true,
        "id": "DyzMzgGoF-CZ",
        "colab_type": "code",
        "colab": {
          "base_uri": "https://localhost:8080/",
          "height": 976
        },
        "outputId": "b22f6837-6029-4c33-f0a5-bbf01b09a4cb"
      },
      "source": [
        "print(\"Starting training at\", datetime.datetime.now())\n",
        "t0 = time.time()\n",
        "callbacks = [ModelCheckpoint(MODEL_WEIGHTS_FILE, monitor='val_accuracy', save_best_only=True)]\n",
        "history = model.fit([Q1_train, Q2_train],\n",
        "                    y_train,\n",
        "                    epochs=NB_EPOCHS,\n",
        "                    validation_split=VALIDATION_SPLIT,\n",
        "                    verbose=2,\n",
        "                    batch_size=BATCH_SIZE,\n",
        "                    callbacks=callbacks)\n",
        "t1 = time.time()\n",
        "print(\"Training ended at\", datetime.datetime.now())\n",
        "print(\"Minutes elapsed: %f\" % ((t1 - t0) / 60.))"
      ],
      "execution_count": null,
      "outputs": [
        {
          "output_type": "stream",
          "text": [
            "Starting training at 2020-06-27 16:26:36.554302\n",
            "Train on 290541 samples, validate on 72636 samples\n",
            "Epoch 1/25\n",
            " - 40s - loss: 0.5798 - accuracy: 0.6939 - val_loss: 0.5108 - val_accuracy: 0.7381\n",
            "Epoch 2/25\n",
            " - 39s - loss: 0.4668 - accuracy: 0.7673 - val_loss: 0.4598 - val_accuracy: 0.7715\n",
            "Epoch 3/25\n",
            " - 39s - loss: 0.4176 - accuracy: 0.7964 - val_loss: 0.4425 - val_accuracy: 0.7812\n",
            "Epoch 4/25\n",
            " - 38s - loss: 0.3773 - accuracy: 0.8207 - val_loss: 0.4221 - val_accuracy: 0.8023\n",
            "Epoch 5/25\n",
            " - 38s - loss: 0.3378 - accuracy: 0.8434 - val_loss: 0.4076 - val_accuracy: 0.8054\n",
            "Epoch 6/25\n",
            " - 38s - loss: 0.2988 - accuracy: 0.8654 - val_loss: 0.4230 - val_accuracy: 0.8131\n",
            "Epoch 7/25\n",
            " - 38s - loss: 0.2605 - accuracy: 0.8852 - val_loss: 0.4434 - val_accuracy: 0.8126\n",
            "Epoch 8/25\n",
            " - 38s - loss: 0.2240 - accuracy: 0.9047 - val_loss: 0.4983 - val_accuracy: 0.8158\n",
            "Epoch 9/25\n",
            " - 38s - loss: 0.1914 - accuracy: 0.9201 - val_loss: 0.5104 - val_accuracy: 0.8145\n",
            "Epoch 10/25\n",
            " - 38s - loss: 0.1615 - accuracy: 0.9341 - val_loss: 0.5416 - val_accuracy: 0.8181\n",
            "Epoch 11/25\n",
            " - 39s - loss: 0.1372 - accuracy: 0.9449 - val_loss: 0.5710 - val_accuracy: 0.8183\n",
            "Epoch 12/25\n",
            " - 38s - loss: 0.1160 - accuracy: 0.9540 - val_loss: 0.6200 - val_accuracy: 0.8192\n",
            "Epoch 13/25\n",
            " - 38s - loss: 0.0990 - accuracy: 0.9614 - val_loss: 0.6635 - val_accuracy: 0.8151\n",
            "Epoch 14/25\n",
            " - 38s - loss: 0.0872 - accuracy: 0.9660 - val_loss: 0.7017 - val_accuracy: 0.8184\n",
            "Epoch 15/25\n",
            " - 38s - loss: 0.0752 - accuracy: 0.9713 - val_loss: 0.7020 - val_accuracy: 0.8171\n",
            "Epoch 16/25\n",
            " - 38s - loss: 0.0668 - accuracy: 0.9748 - val_loss: 0.7341 - val_accuracy: 0.8205\n",
            "Epoch 17/25\n",
            " - 38s - loss: 0.0598 - accuracy: 0.9777 - val_loss: 0.7456 - val_accuracy: 0.8201\n",
            "Epoch 18/25\n",
            " - 39s - loss: 0.0525 - accuracy: 0.9805 - val_loss: 0.7930 - val_accuracy: 0.8223\n",
            "Epoch 19/25\n",
            " - 38s - loss: 0.0486 - accuracy: 0.9821 - val_loss: 0.7701 - val_accuracy: 0.8224\n",
            "Epoch 20/25\n",
            " - 38s - loss: 0.0454 - accuracy: 0.9834 - val_loss: 0.7868 - val_accuracy: 0.8194\n",
            "Epoch 21/25\n",
            " - 39s - loss: 0.0423 - accuracy: 0.9847 - val_loss: 0.8290 - val_accuracy: 0.8180\n",
            "Epoch 22/25\n",
            " - 38s - loss: 0.0391 - accuracy: 0.9859 - val_loss: 0.8545 - val_accuracy: 0.8190\n",
            "Epoch 23/25\n",
            " - 38s - loss: 0.0364 - accuracy: 0.9870 - val_loss: 0.8238 - val_accuracy: 0.8206\n",
            "Epoch 24/25\n",
            " - 38s - loss: 0.0338 - accuracy: 0.9880 - val_loss: 0.8639 - val_accuracy: 0.8209\n",
            "Epoch 25/25\n",
            " - 38s - loss: 0.0333 - accuracy: 0.9881 - val_loss: 0.8544 - val_accuracy: 0.8188\n",
            "Training ended at 2020-06-27 16:43:21.532755\n",
            "Minutes elapsed: 16.749637\n"
          ],
          "name": "stdout"
        }
      ]
    },
    {
      "cell_type": "markdown",
      "metadata": {
        "deletable": true,
        "editable": true,
        "id": "MGHM6M6cF-Cd",
        "colab_type": "text"
      },
      "source": [
        "## Plot training and validation accuracy"
      ]
    },
    {
      "cell_type": "code",
      "metadata": {
        "deletable": true,
        "editable": true,
        "id": "ZDjq1yXlF-Ce",
        "colab_type": "code",
        "colab": {}
      },
      "source": [
        "acc = pd.DataFrame({'epoch': [ i + 1 for i in history.epoch ],\n",
        "                    'training': history.history['accuracy'],\n",
        "                    'validation': history.history['val_accuracy']})\n",
        "# ax = acc.iloc[:,:].plot(x='epoch', figsize={5,8}, grid=True)\n",
        "# ax.set_ylabel(\"accuracy\")\n",
        "# ax.set_ylim([0.0,1.0]);"
      ],
      "execution_count": null,
      "outputs": []
    },
    {
      "cell_type": "markdown",
      "metadata": {
        "deletable": true,
        "editable": true,
        "id": "kiG4CFHrF-Ci",
        "colab_type": "text"
      },
      "source": [
        "## Print best validation accuracy and epoch"
      ]
    },
    {
      "cell_type": "code",
      "metadata": {
        "deletable": true,
        "editable": true,
        "id": "ZI12e1L7F-Cj",
        "colab_type": "code",
        "colab": {
          "base_uri": "https://localhost:8080/",
          "height": 34
        },
        "outputId": "2740b2af-d61c-448f-bb8a-3b484fa90a0f"
      },
      "source": [
        "max_val_acc, idx = max((val, idx) for (idx, val) in enumerate(history.history['val_accuracy']))\n",
        "print('Maximum accuracy at epoch', '{:d}'.format(idx+1), '=', '{:.4f}'.format(max_val_acc))"
      ],
      "execution_count": null,
      "outputs": [
        {
          "output_type": "stream",
          "text": [
            "Maximum accuracy at epoch 19 = 0.8224\n"
          ],
          "name": "stdout"
        }
      ]
    },
    {
      "cell_type": "markdown",
      "metadata": {
        "deletable": true,
        "editable": true,
        "id": "f4G3ukVNF-Cn",
        "colab_type": "text"
      },
      "source": [
        "## Evaluate the model with best validation accuracy on the test partition"
      ]
    },
    {
      "cell_type": "code",
      "metadata": {
        "deletable": true,
        "editable": true,
        "id": "J6QZbmK4F-Co",
        "colab_type": "code",
        "colab": {
          "base_uri": "https://localhost:8080/",
          "height": 34
        },
        "outputId": "6503c924-8426-46e9-bea3-22ddf9768613"
      },
      "source": [
        "model.load_weights(MODEL_WEIGHTS_FILE)\n",
        "loss, accuracy = model.evaluate([Q1_dev, Q2_dev], y_dev, verbose=0)\n",
        "print('loss = {0:.4f}, accuracy = {1:.4f}'.format(loss, accuracy))"
      ],
      "execution_count": null,
      "outputs": [
        {
          "output_type": "stream",
          "text": [
            "loss = 1.8867, accuracy = 0.6750\n"
          ],
          "name": "stdout"
        }
      ]
    },
    {
      "cell_type": "code",
      "metadata": {
        "id": "0f_pEuV4F-Cu",
        "colab_type": "code",
        "colab": {
          "base_uri": "https://localhost:8080/",
          "height": 34
        },
        "outputId": "a1a679a1-085a-4a5f-b4e6-939550564247"
      },
      "source": [
        "!cat question_pairs_weights.h5"
      ],
      "execution_count": null,
      "outputs": [
        {
          "output_type": "stream",
          "text": [
            "cat: question_pairs_weights.h5: No such file or directory\n"
          ],
          "name": "stdout"
        }
      ]
    },
    {
      "cell_type": "code",
      "metadata": {
        "id": "CiH0a_7cuvac",
        "colab_type": "code",
        "colab": {
          "base_uri": "https://localhost:8080/",
          "height": 87
        },
        "outputId": "b949f4bd-5252-4eb4-ad20-dd2242ddf71d"
      },
      "source": [
        "for key in history.history:\n",
        "    print(key)"
      ],
      "execution_count": null,
      "outputs": [
        {
          "output_type": "stream",
          "text": [
            "val_loss\n",
            "val_accuracy\n",
            "loss\n",
            "accuracy\n"
          ],
          "name": "stdout"
        }
      ]
    }
  ]
}